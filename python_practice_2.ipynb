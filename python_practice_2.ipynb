{
 "nbformat": 4,
 "nbformat_minor": 0,
 "metadata": {
  "colab": {
   "provenance": []
  },
  "kernelspec": {
   "name": "python3",
   "display_name": "Python 3"
  },
  "language_info": {
   "name": "python"
  }
 },
 "cells": [
  {
   "cell_type": "markdown",
   "source": [
    "# I. Змінні та памʼять."
   ],
   "metadata": {
    "id": "p9wwt0LZzNvn"
   }
  },
  {
   "cell_type": "markdown",
   "source": [
    "1. Створити змінні, що посилаються на два цілих числа, що однакові за значенням, де значення належить проміжку від -5 до 256. Перевірте, чи будуть ці змінні рівні тільки за значенням або ж ще будуть посилатися на один і той самий обʼєкт в памʼяті? Наведіть код та дайте текстову відповідь нижче."
   ],
   "metadata": {
    "id": "HTJrrm95xSV9"
   }
  },
  {
   "cell_type": "code",
   "execution_count": 7,
   "metadata": {
    "id": "TATni2vzayjG",
    "colab": {
     "base_uri": "https://localhost:8080/"
    },
    "outputId": "26d89b28-20bd-4773-c020-565b622c51b0"
   },
   "outputs": [
    {
     "output_type": "stream",
     "name": "stdout",
     "text": [
      "num1 value is equal to num2 value: True\n",
      "id(num1): 139966873504080 \n",
      "id(num2): 139966873504080\n"
     ]
    }
   ],
   "source": [
    "num1 = 68\n",
    "num2 = 68\n",
    "print(\"num1 value is equal to num2 value:\" ,num1 == num2)\n",
    "print(\"id(num1):\",id(num1), \"\\nid(num2):\", id(num2))"
   ]
  },
  {
   "cell_type": "markdown",
   "source": [
    "так, вони посилаються на одну й ту саму комірку пам'яті"
   ],
   "metadata": {
    "id": "zfRG_o3WbRdg"
   }
  },
  {
   "cell_type": "markdown",
   "source": [
    "2. За допомогою якої функції можна перевірити належність змінної до вказаного типу даних (напр. чи змінна True посилається на значення булевого та цілочисленого типу)?"
   ],
   "metadata": {
    "id": "ISORzt6M3vAt"
   }
  },
  {
   "cell_type": "code",
   "source": [
    "boolvar = True\n",
    "print(\"isinstance(boolvar, bool):\", isinstance(boolvar, bool))\n",
    "print(\"isinstance(boolvar, int):\", isinstance(boolvar, int))\n",
    "print(\"isinstance(boolvar, complex):\", isinstance(boolvar, complex))"
   ],
   "metadata": {
    "id": "9vL9CFaMbfyo",
    "colab": {
     "base_uri": "https://localhost:8080/"
    },
    "outputId": "3d208743-2c05-424d-fff3-3058cf2ee0ad"
   },
   "execution_count": 27,
   "outputs": [
    {
     "output_type": "stream",
     "name": "stdout",
     "text": [
      "isinstance(boolvar, bool): True\n",
      "isinstance(boolvar, int): True\n",
      "isinstance(boolvar, complex): False\n"
     ]
    }
   ]
  },
  {
   "cell_type": "markdown",
   "source": [
    "# II. Цілі числа та числа з рухомою комою"
   ],
   "metadata": {
    "id": "tRxugKAxwYLw"
   }
  },
  {
   "cell_type": "markdown",
   "source": [
    "3. Створити дві змінні, що посилаються на будь-які ціле число та число з рухомою комою та продемонструвати такі арифметичні операції: додавання, віднімання, ділення, множення, ділення без залишку, ділення по модулю, приведення до ступеню. Всі результати операцій вивести на екран."
   ],
   "metadata": {
    "id": "NLHkgd5Gybc8"
   }
  },
  {
   "cell_type": "code",
   "source": [
    "intvar = 37\n",
    "floatvar = 2.2\n",
    "print(\" +:\", intvar + floatvar,\n",
    "      \"\\n -:\", intvar - floatvar,\n",
    "      \"\\n /:\", intvar / floatvar,\n",
    "      \"\\n *:\", intvar * floatvar,\n",
    "      \"\\n//:\", intvar // floatvar,\n",
    "      \"\\n %:\", intvar % floatvar,\n",
    "      \"\\n**:\", intvar ** floatvar)"
   ],
   "metadata": {
    "id": "nb8u_3pjb2cA",
    "colab": {
     "base_uri": "https://localhost:8080/"
    },
    "outputId": "88895e2b-dcc2-4422-cc80-12fc67e5b715"
   },
   "execution_count": 29,
   "outputs": [
    {
     "output_type": "stream",
     "name": "stdout",
     "text": [
      " +: 39.2 \n",
      " -: 34.8 \n",
      " /: 16.818181818181817 \n",
      " *: 81.4 \n",
      "//: 16.0 \n",
      " %: 1.7999999999999972 \n",
      "**: 2818.667142839092\n"
     ]
    }
   ]
  },
  {
   "cell_type": "markdown",
   "source": [
    "4. Використовуючи змінні з вправи 3, продемонструйте механізм явного перетворення типів, де числа з рухомою комою перетворюються на цілі числа. Також визначте змінну, що посилається на значення булевого типу і спробуйте явно привести її до цілого числа."
   ],
   "metadata": {
    "id": "1kBClKgPzZnC"
   }
  },
  {
   "cell_type": "code",
   "source": [
    "dynamicvar = floatvar\n",
    "print(\"dynamicvar = 2.2\")\n",
    "print(\"isinstance(dynamicvar, float):\", isinstance(dynamicvar, float))\n",
    "print(\"isinstance(dynamicvar, int):\", isinstance(dynamicvar, int))\n",
    "\n",
    "dynamicvar -= 0.2\n",
    "print(\"\\ndynamicvar -= 0.2\")\n",
    "print(\"isinstance(dynamicvar, float):\", isinstance(dynamicvar, float))\n",
    "print(\"\\nisinstance(dynamicvar, int):\", isinstance(dynamicvar, int))\n",
    "\n",
    "int_boolvar = int(boolvar)\n",
    "print(\"\\nboolvar:\", boolvar,\n",
    "      \"\\nint_boolvar:\", int_boolvar)"
   ],
   "metadata": {
    "id": "TbqJbkeUcKsD",
    "colab": {
     "base_uri": "https://localhost:8080/"
    },
    "outputId": "1c6188a5-7019-4768-b814-32e67f4f6e65"
   },
   "execution_count": 30,
   "outputs": [
    {
     "output_type": "stream",
     "name": "stdout",
     "text": [
      "dynamicvar = 2.2\n",
      "isinstance(dynamicvar, float): True\n",
      "isinstance(dynamicvar, int): False\n",
      "\n",
      "dynamicvar -= 0.2\n",
      "isinstance(dynamicvar, float): True\n",
      "\n",
      "isinstance(dynamicvar, int): False\n",
      "\n",
      "boolvar: True \n",
      "int_boolvar: 1\n"
     ]
    }
   ]
  },
  {
   "cell_type": "markdown",
   "source": [
    "# IІІ. Рядки (String)."
   ],
   "metadata": {
    "id": "EVJ7AflwxrZi"
   }
  },
  {
   "cell_type": "markdown",
   "source": [
    "5. Створити пустий рядок двома різними способами."
   ],
   "metadata": {
    "id": "_s5ECzz9zE61"
   }
  },
  {
   "cell_type": "code",
   "source": [
    "empty_str1 = \"\"\n",
    "empty_str2 = str()\n",
    "print(empty_str1, empty_str2)"
   ],
   "metadata": {
    "id": "fkZJHu9Scvc-",
    "colab": {
     "base_uri": "https://localhost:8080/"
    },
    "outputId": "5adb22f3-8b38-43be-bede-089b7c1e34c7"
   },
   "execution_count": 31,
   "outputs": [
    {
     "output_type": "stream",
     "name": "stdout",
     "text": [
      " \n"
     ]
    }
   ]
  },
  {
   "cell_type": "markdown",
   "source": [
    "6. Створити рядок з апострофом. Зробити його сирим. Вивести обидва рядка на екран."
   ],
   "metadata": {
    "id": "4Bdn9J3MzLf_"
   }
  },
  {
   "cell_type": "code",
   "source": [
    "apostrophe_str = 'kha\\'zix'\n",
    "raw_apostrophe_str = r'kha\\'zix'\n",
    "print(apostrophe_str)\n",
    "print(raw_apostrophe_str)"
   ],
   "metadata": {
    "id": "ivji_hsmc0GH",
    "colab": {
     "base_uri": "https://localhost:8080/"
    },
    "outputId": "8c0f214d-8347-4ad0-e7bc-fae3bacf002f"
   },
   "execution_count": 33,
   "outputs": [
    {
     "output_type": "stream",
     "name": "stdout",
     "text": [
      "kha'zix\n",
      "kha\\'zix\n"
     ]
    }
   ]
  },
  {
   "cell_type": "markdown",
   "source": [
    "7. Створити змінну, що буде посилатися на Ваше прізвище латинкою. Створити форматований рядок, який буде мати вигляд \"My surname is ______\", де на місці нижніх підкреслень буде Ваше прізвище зі змінної."
   ],
   "metadata": {
    "id": "bg_d8wM4z8dS"
   }
  },
  {
   "cell_type": "code",
   "source": [
    "surname = \"Tarverdiiev\"\n",
    "my_surname = f\"My surname is {surname}\"\n",
    "\n",
    "print(my_surname)"
   ],
   "metadata": {
    "id": "kuxFgpWndACq",
    "colab": {
     "base_uri": "https://localhost:8080/"
    },
    "outputId": "5685ac11-5412-4f5b-e097-537422fbfe63"
   },
   "execution_count": 34,
   "outputs": [
    {
     "output_type": "stream",
     "name": "stdout",
     "text": [
      "My surname is Tarverdiiev\n"
     ]
    }
   ]
  },
  {
   "cell_type": "markdown",
   "source": [
    "8. Маючи рядок \"My dog is crazy.\" перетворити його на список [\"my\", \"dog\", \"is\", \"crazy\"]"
   ],
   "metadata": {
    "id": "1Nc6RqvQ0hxU"
   }
  },
  {
   "cell_type": "code",
   "source": [
    "dog = \"My dog is crazy.\"\n",
    "bmw = [car.lower() for car in dog.split()]\n",
    "\n",
    "print(bmw)"
   ],
   "metadata": {
    "id": "w1Ya4RqedUhw",
    "colab": {
     "base_uri": "https://localhost:8080/"
    },
    "outputId": "30eeeaf9-a392-4a14-bfc3-727c050cb8bc"
   },
   "execution_count": 38,
   "outputs": [
    {
     "output_type": "stream",
     "name": "stdout",
     "text": [
      "['my', 'dog', 'is', 'crazy.']\n"
     ]
    }
   ]
  },
  {
   "cell_type": "markdown",
   "source": [
    "# IV. Робота зі списками."
   ],
   "metadata": {
    "id": "GYVqN9uP1D4n"
   }
  },
  {
   "cell_type": "markdown",
   "source": [
    "9. Створити список двома різними за синтаксисом способами. За допомогою вбудованої функції обчисліть довжину одного з них."
   ],
   "metadata": {
    "id": "7-DeDunw2sO-"
   }
  },
  {
   "cell_type": "code",
   "source": [
    "list1 = list(range(5))\n",
    "list2 = [1, 2, 3, 4, 5]\n",
    "print(\"len(list1):\", len(list1))"
   ],
   "metadata": {
    "id": "zxg06Uuxdyoh",
    "colab": {
     "base_uri": "https://localhost:8080/"
    },
    "outputId": "e7b9499c-4661-4b2c-b971-b999932b1531"
   },
   "execution_count": 39,
   "outputs": [
    {
     "output_type": "stream",
     "name": "stdout",
     "text": [
      "len(list1): 5\n"
     ]
    }
   ]
  },
  {
   "cell_type": "markdown",
   "source": [
    "10. Створіть два списка та за допомогою спеціального методу додайте другий з них в якості останнього елемента першого."
   ],
   "metadata": {
    "id": "8vmGUTjL22gI"
   }
  },
  {
   "cell_type": "code",
   "source": [
    "list1 = list(range(0, 3))\n",
    "list2 = list(range(3, 6))\n",
    "list1.extend([list2])\n",
    "print(list1)"
   ],
   "metadata": {
    "id": "uHtjWYw7d7hm",
    "colab": {
     "base_uri": "https://localhost:8080/"
    },
    "outputId": "3a2fa648-8459-4a95-c504-93a95c25f8a4"
   },
   "execution_count": 42,
   "outputs": [
    {
     "output_type": "stream",
     "name": "stdout",
     "text": [
      "[0, 1, 2, [3, 4, 5]]\n"
     ]
    }
   ]
  },
  {
   "cell_type": "markdown",
   "source": [
    "11. Створіть список, де елементами цього списку також є списки. Отримай перший елемент з останнього рядка та виведи значення на екран."
   ],
   "metadata": {
    "id": "JC3BkD-67_--"
   }
  },
  {
   "cell_type": "code",
   "source": [
    "gigalist = [[0, 1, 2], [3, 4, 5], [6, 7, 8]]\n",
    "print(gigalist[-1][0])"
   ],
   "metadata": {
    "id": "Kz2jZHsGeLlz",
    "colab": {
     "base_uri": "https://localhost:8080/"
    },
    "outputId": "282c509f-3ba2-4bd9-884c-82d4cfdedcb9"
   },
   "execution_count": 43,
   "outputs": [
    {
     "output_type": "stream",
     "name": "stdout",
     "text": [
      "6\n"
     ]
    }
   ]
  },
  {
   "cell_type": "markdown",
   "source": [
    "12. Створіть список з десяти елементів різного типу. Отримайте всі елементи, окрім двох перших та двох останніх та збережіть їх в новій змінній."
   ],
   "metadata": {
    "id": "JA47PKTv8zFK"
   }
  },
  {
   "cell_type": "code",
   "source": [
    "strangelist = [1, 2.22, \"three\", False, [1, 4], \"bb\", 1337, 22.8, True, \"aboba\"]\n",
    "lessstrangelist = strangelist[2:-2]\n",
    "print(lessstrangelist)"
   ],
   "metadata": {
    "id": "_rHdUR-ueP4-",
    "colab": {
     "base_uri": "https://localhost:8080/"
    },
    "outputId": "d68d7775-d1ae-4907-dd2f-c6e509df7dd0"
   },
   "execution_count": 44,
   "outputs": [
    {
     "output_type": "stream",
     "name": "stdout",
     "text": [
      "['three', False, [1, 4], 'bb', 1337, 22.8]\n"
     ]
    }
   ]
  },
  {
   "cell_type": "markdown",
   "source": [
    "# V. Робота з кортежами."
   ],
   "metadata": {
    "id": "pCjR1dJb1Qbi"
   }
  },
  {
   "cell_type": "markdown",
   "source": [
    "14. Створити кортеж з один елементом."
   ],
   "metadata": {
    "id": "fAZCxAX06R_k"
   }
  },
  {
   "cell_type": "code",
   "source": [
    "microptuple = (1,)\n",
    "print(microptuple)"
   ],
   "metadata": {
    "id": "H7d82WkQev3e",
    "colab": {
     "base_uri": "https://localhost:8080/"
    },
    "outputId": "2d9cf74a-3472-4588-9a4d-10a633a55f98"
   },
   "execution_count": 47,
   "outputs": [
    {
     "output_type": "stream",
     "name": "stdout",
     "text": [
      "(1,)\n"
     ]
    }
   ]
  },
  {
   "cell_type": "markdown",
   "source": [
    "15. Порівняйте список та кортеж. Назвіть схожості та відмінності, випадки використання."
   ],
   "metadata": {
    "id": "8LCtYcmI6w1M"
   }
  },
  {
   "cell_type": "markdown",
   "source": [
    "схоже:\n",
    "1. можна зберігати декілька об'єктів\n",
    "2. можуть містити об'єкти різних типів даних\n",
    "3. мають спільні методи (наприклад, len() та index())\n",
    "4. (не знаю чи варто казати) всі об'єкти проіндексовано від 0 до n\n",
    "\n",
    "різне:\n",
    "1. синтаксично вони відрізняються\n",
    "2. списки є мутабельними, а кортежі ні\n",
    "3. кортежі ефективніші для пам'яті\n"
   ],
   "metadata": {
    "id": "fUsN1Hnue0C6"
   }
  },
  {
   "cell_type": "markdown",
   "source": [
    "16. Створіть кортеж з 11ти елементів чисел з рухомою комою та отримайте кожен парний за індексом елемент в зворотньому порядку. Наприклад, маючи (1.2, 2.3, 3.3, 4.3, 5.3, 6.3, 7.3, 8.3, 9.3, 0.3), отримати (0.3, 8.3, 6.3, 4.3, 2.3). Результат збережіть в нову змінну та виведіть на екран."
   ],
   "metadata": {
    "id": "m0xrwFijAmDD"
   }
  },
  {
   "cell_type": "code",
   "source": [
    "another_tuple = (1.2, 2.3, 3.3, 4.3, 5.3, 6.3, 7.3, 8.3, 9.3, 0.3)\n",
    "print(another_tuple[-1::-2])"
   ],
   "metadata": {
    "id": "p-5DAH6XfAGA",
    "colab": {
     "base_uri": "https://localhost:8080/"
    },
    "outputId": "85362c03-dda2-43cf-a53e-69636d865ec2"
   },
   "execution_count": 48,
   "outputs": [
    {
     "output_type": "stream",
     "name": "stdout",
     "text": [
      "(0.3, 8.3, 6.3, 4.3, 2.3)\n"
     ]
    }
   ]
  },
  {
   "cell_type": "markdown",
   "source": [
    "# VI. Множини (Set)."
   ],
   "metadata": {
    "id": "rW_I9dt3x6cW"
   }
  },
  {
   "cell_type": "markdown",
   "source": [
    "17. Створити множину без елементів. Після цого за допомогою методу додайте кілька різних елементів до множини. Чи множини є змінним типом даних?"
   ],
   "metadata": {
    "id": "zNjRLHLw1Bgg"
   }
  },
  {
   "cell_type": "code",
   "source": [
    "some_set = set()\n",
    "some_set.add(3)\n",
    "some_set.add(4)\n",
    "some_set.add(5)\n",
    "some_set.add(0)\n",
    "some_set.add(\"D\")\n",
    "print(some_set)"
   ],
   "metadata": {
    "id": "KOv7zc2Kfo4N",
    "colab": {
     "base_uri": "https://localhost:8080/"
    },
    "outputId": "b9bf0861-b927-4727-e719-75abb5539a6a"
   },
   "execution_count": 49,
   "outputs": [
    {
     "output_type": "stream",
     "name": "stdout",
     "text": [
      "{0, 3, 4, 5, 'D'}\n"
     ]
    }
   ]
  },
  {
   "cell_type": "markdown",
   "source": [
    "так, множина є змінним типом даних (я ж до пустої множини додав елемети якісь)"
   ],
   "metadata": {
    "id": "vxS6dVYiftZQ"
   }
  },
  {
   "cell_type": "markdown",
   "source": [
    "18. Створити множину, маючи список my_list = [1, 1, 2, 67, 67, 8, 9]. Пояснити, чому \"зникли\" деякі елементи."
   ],
   "metadata": {
    "id": "gHpT0Zw_1HEF"
   }
  },
  {
   "cell_type": "code",
   "source": [
    "my_set = {1, 1, 2, 67, 67, 8, 9}\n",
    "print(my_set)"
   ],
   "metadata": {
    "id": "qCN4uvJ_fxmu",
    "colab": {
     "base_uri": "https://localhost:8080/"
    },
    "outputId": "284c3f1d-339c-4351-8b8c-fa0d55040024"
   },
   "execution_count": 51,
   "outputs": [
    {
     "output_type": "stream",
     "name": "stdout",
     "text": [
      "{1, 2, 67, 8, 9}\n"
     ]
    }
   ]
  },
  {
   "cell_type": "markdown",
   "source": [
    "бо в множині кожен елемент існує лише в одному екземплярі"
   ],
   "metadata": {
    "id": "tFNc1e20fyny"
   }
  },
  {
   "cell_type": "markdown",
   "source": [
    "19. Створіть дві множини. Продемонстуйте над ними операції: обʼєднання, різниці, пересічі та симетричної різниці. Використовуйте методи, що не змінюють множини, а створюють нові."
   ],
   "metadata": {
    "id": "SRMkGizS1UwY"
   }
  },
  {
   "cell_type": "code",
   "source": [
    "set1 = {0, 6, 3, 1, 5}\n",
    "set2 = {4, 5, 2, 7, 3}\n",
    "\n",
    "union_set = set1.union(set2)\n",
    "print(union_set)\n",
    "\n",
    "difference_set = set1.difference(set2)\n",
    "print(difference_set)\n",
    "\n",
    "intersect_set = set1.intersection(set2)\n",
    "print(intersect_set)\n",
    "\n",
    "triangle_set = set1.symmetric_difference(set2)\n",
    "print(triangle_set)"
   ],
   "metadata": {
    "id": "h0T-VuDnf3Ri",
    "colab": {
     "base_uri": "https://localhost:8080/"
    },
    "outputId": "6ba8de4a-07f6-481c-96b9-b0d56f0bcb69"
   },
   "execution_count": 53,
   "outputs": [
    {
     "output_type": "stream",
     "name": "stdout",
     "text": [
      "{0, 1, 2, 3, 4, 5, 6, 7}\n",
      "{0, 1, 6}\n",
      "{3, 5}\n",
      "{0, 1, 2, 4, 6, 7}\n"
     ]
    }
   ]
  },
  {
   "cell_type": "markdown",
   "source": [
    "# VII. Словники (Dictionary)."
   ],
   "metadata": {
    "id": "kWc8gkzTx7Ea"
   }
  },
  {
   "cell_type": "markdown",
   "source": [
    "20. Створіть пустий словник. До нього додайте чотири пари елементів такі, щоб їхні ключі були різних типів. Чи може список бути ключем? Чому?"
   ],
   "metadata": {
    "id": "i5FLwj-B2ybQ"
   }
  },
  {
   "cell_type": "code",
   "source": [
    "some_dict = {}\n",
    "some_dict[1] = 2\n",
    "some_dict[3.14] = 1.68\n",
    "some_dict[\"two\"] = \"three\"\n",
    "some_dict[(1, 2)] = (5,)\n",
    "\n",
    "print(some_dict)"
   ],
   "metadata": {
    "id": "hxgv3BzrgLAV",
    "colab": {
     "base_uri": "https://localhost:8080/"
    },
    "outputId": "7787a867-9835-4ea9-b812-b88a499a203b"
   },
   "execution_count": 54,
   "outputs": [
    {
     "output_type": "stream",
     "name": "stdout",
     "text": [
      "{1: 2, 3.14: 1.68, 'two': 'three', (1, 2): (5,)}\n"
     ]
    }
   ]
  },
  {
   "cell_type": "markdown",
   "source": [
    "ні, список не може бути ключем, бо ключем має бути незмінний тип даних"
   ],
   "metadata": {
    "id": "zwa7UVN-gR3m"
   }
  },
  {
   "cell_type": "markdown",
   "source": [
    "21. Створіть словник, де значенням в одній з пар теж буде словник, який теж має вкладений словник. Виведіть на екран значення, що міститься в словнику, що знаходиться на найнижчому рівні ієрархії вкладеності (найбільш внутрішній)."
   ],
   "metadata": {
    "id": "WM_pMlJsgoNf"
   }
  },
  {
   "cell_type": "code",
   "source": [
    "im_in_your_walls = {\"aboba\": \"3450D\"}\n",
    "walls = {\"walter\": im_in_your_walls}\n",
    "print(walls[\"walter\"][\"aboba\"])"
   ],
   "metadata": {
    "id": "60dlP7IHhAy4",
    "colab": {
     "base_uri": "https://localhost:8080/"
    },
    "outputId": "8d53c4c7-831a-4d30-f9ee-2166ce503ebb"
   },
   "execution_count": 57,
   "outputs": [
    {
     "output_type": "stream",
     "name": "stdout",
     "text": [
      "3450D\n"
     ]
    }
   ]
  },
  {
   "cell_type": "markdown",
   "source": [
    "# Вітаю! Ви велика(ий) молодець, що впоралась(вся). Похваліть себе та побалуйте чимось приємним. Я Вами пишаюся."
   ],
   "metadata": {
    "id": "xOZP0hkx6cCr"
   }
  }
 ]
}
